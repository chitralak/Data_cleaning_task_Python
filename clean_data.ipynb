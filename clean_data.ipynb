{
 "cells": [
  {
   "cell_type": "code",
   "execution_count": 11,
   "id": "da3ff61b-4a7c-4b62-8d80-39fd2256f7c2",
   "metadata": {},
   "outputs": [
    {
     "name": "stdout",
     "output_type": "stream",
     "text": [
      "      Name      Join Date   Salary Department\n",
      "0   alice      2021/05/20     1000      Sales\n",
      "1      BOB     20-06-2021    1,200      sales\n",
      "2  Charlie   July 5, 2021      NaN         HR\n",
      "3      NaN     2021.07.15  1300.00         HR\n",
      "4      Eve  not available      NaN    Finance\n",
      "datetime64[ns]\n"
     ]
    },
    {
     "name": "stderr",
     "output_type": "stream",
     "text": [
      "C:\\Users\\chitr\\AppData\\Local\\Temp\\ipykernel_24128\\3554254067.py:4: UserWarning: Parsing dates in %Y/%m/%d format when dayfirst=True was specified. Pass `dayfirst=False` or specify a format to silence this warning.\n",
      "  df[\"Join Date\"]=pd.to_datetime(df[\"Join Date\"], errors='coerce', dayfirst=True)\n"
     ]
    }
   ],
   "source": [
    "import pandas as pd\n",
    "df = pd.read_csv(\"task1_messy_data.csv\")\n",
    "print(df.head())\n",
    "df[\"Join Date\"]=pd.to_datetime(df[\"Join Date\"], errors='coerce', dayfirst=True)\n",
    "print(df[\"Join Date\"].dtype)"
   ]
  },
  {
   "cell_type": "code",
   "execution_count": 13,
   "id": "20c23dd3-b940-4378-855e-63a01da5d399",
   "metadata": {},
   "outputs": [
    {
     "name": "stderr",
     "output_type": "stream",
     "text": [
      "C:\\Users\\chitr\\AppData\\Local\\Temp\\ipykernel_24128\\1544927971.py:7: UserWarning: Parsing dates in %Y/%m/%d format when dayfirst=True was specified. Pass `dayfirst=False` or specify a format to silence this warning.\n",
      "  df[\"Join Date\"]=pd.to_datetime(df[\"Join Date\"], errors='coerce', dayfirst=True)\n"
     ]
    }
   ],
   "source": [
    "import pandas as pd\n",
    "df = pd.read_csv(\"task1_messy_data.csv\")\n",
    "# remove space\n",
    "df[\"Name\"]=df[\"Name\"].str.strip().str.title()\n",
    "df[\"Department\"]=df[\"Department\"].str.strip().str.title()\n",
    "df=df.drop_duplicates(subset=[\"Name\",\"Department\"])\n",
    "df[\"Join Date\"]=pd.to_datetime(df[\"Join Date\"], errors='coerce', dayfirst=True)\n",
    "df[\"Salary\"]=df[\"Salary\"].replace([\"NaN\",\"N/A\"],\"0\")\n",
    "df[\"Salary\"]=df[\"Salary\"].str.replace(\",\",'')\n",
    "df[\"Salary\"]=df[\"Salary\"].astype(float)\n",
    "df[\"Salary\"]=df[\"Salary\"].fillna(0)\n",
    "#print(df.head())\n",
    "df.to_csv('cleaned_data.csv',index=False)\n",
    "    \n",
    "    "
   ]
  },
  {
   "cell_type": "code",
   "execution_count": null,
   "id": "9b918be5-c25e-4f81-bde8-62172e1a732b",
   "metadata": {},
   "outputs": [],
   "source": []
  }
 ],
 "metadata": {
  "kernelspec": {
   "display_name": "Python [conda env:base] *",
   "language": "python",
   "name": "conda-base-py"
  },
  "language_info": {
   "codemirror_mode": {
    "name": "ipython",
    "version": 3
   },
   "file_extension": ".py",
   "mimetype": "text/x-python",
   "name": "python",
   "nbconvert_exporter": "python",
   "pygments_lexer": "ipython3",
   "version": "3.12.7"
  }
 },
 "nbformat": 4,
 "nbformat_minor": 5
}
